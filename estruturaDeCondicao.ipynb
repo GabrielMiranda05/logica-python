{
 "cells": [
  {
   "cell_type": "code",
   "execution_count": null,
   "metadata": {},
   "outputs": [],
   "source": [
    "minutos =int(input(\"Minutos: \"))\n",
    "\n",
    "if minutos < 200:\n",
    "    preco = 0.2\n",
    "    print(f'R${preco * minutos}')\n",
    "else:\n",
    "    if minutos <=400:\n",
    "        preco = 0.18\n",
    "    else:\n",
    "        preco = 0.15\n",
    "    print(f'R${preco * minutos}')"
   ]
  },
  {
   "cell_type": "code",
   "execution_count": null,
   "metadata": {},
   "outputs": [],
   "source": [
    "idade = int(input(\"Insira sua idade: \"))\n",
    "totalCompra = float(input(\"Insira o valor total da compra: \"))\n",
    "\n",
    "if idade >= 65:\n",
    "    if totalCompra > 100:\n",
    "        desconto = totalCompra* 0.10\n",
    "        totalDesconto = totalCompra - desconto\n",
    "        print(f'Voce recebeu o desconto de R${desconto} e o total da sua compra ficou R${totalDesconto}' )\n",
    "    else:\n",
    "        print(\"Desconto para compras apenas a cima de R$100,00\")\n",
    "else:\n",
    "    print(\"Desconto somente para idade a cima de 64 anos\")"
   ]
  },
  {
   "cell_type": "code",
   "execution_count": null,
   "metadata": {},
   "outputs": [],
   "source": [
    "marca = input(\"Digite a marca do seu carro: \")\n",
    "anoCarro = int(input(\"Digite o ano do seu carro\"))\n",
    "\n",
    "if 2013 <= anoCarro <= 2015:\n",
    "    if marca == \"Ford\":\n",
    "        print(\"Seu carro foi fabricado entre 2013 e 2015\")\n",
    "    else:\n",
    "        print(\"Seu carro foi fabricado entre 2013 e 2015 mas não é Ford\")\n",
    "else:\n",
    "    print(\"Carro informado fora dos intervalo de anos especificado\")\n",
    "\n",
    "\n"
   ]
  },
  {
   "cell_type": "code",
   "execution_count": null,
   "metadata": {},
   "outputs": [],
   "source": [
    "hora = int(input(\"Insira a o horário: \"))\n",
    "temperatura = int(input(\"Insira a temperatura\"))\n",
    "\n",
    "if 6 <= hora < 12:\n",
    "    if temperatura > 20:\n",
    "        print(\"Hora de fazer uma caminhada matinal!\")\n",
    "    else:\n",
    "        print(\"Hora de tomar um café da manhã\")\n",
    "elif hora >=12 and hora < 18:\n",
    "    if temperatura > 25:\n",
    "        print(\"Que tal um piquenique no parque?\")\n",
    "    else:\n",
    "        print(\"Hora de um almoço leve\")\n",
    "else:\n",
    "    print(\"Horario informado invalido\")\n"
   ]
  },
  {
   "cell_type": "code",
   "execution_count": null,
   "metadata": {},
   "outputs": [],
   "source": [
    "user = str(input(\"Insira seu usuario\"))\n",
    "senha = str(input(\"Insira a senha\"))\n",
    "\n",
    "if user == \"admin\":\n",
    "    if senha == \"password\":\n",
    "        print(\"Bem vindo admin\")\n",
    "    else: \n",
    "        print(\"Senha incorreta\")\n",
    "else:\n",
    "    print(\"Usuario incorreto\")"
   ]
  },
  {
   "cell_type": "code",
   "execution_count": null,
   "metadata": {},
   "outputs": [],
   "source": [
    "#VARIAVEL COUNT\n",
    "\n",
    "count = 1\n",
    "\n",
    "while count <= 5:\n",
    "    print(count)\n",
    "    count += 1"
   ]
  },
  {
   "cell_type": "code",
   "execution_count": null,
   "metadata": {},
   "outputs": [],
   "source": [
    "soma = 0\n",
    "\n",
    "print(\"Entre com um numero para soma\")\n",
    "entrada = int(input())\n",
    "\n",
    "while entrada >0:\n",
    "    soma += entrada\n",
    "    print(\"A soma é = \", soma)\n",
    "    entrada = int(input())"
   ]
  },
  {
   "cell_type": "code",
   "execution_count": null,
   "metadata": {},
   "outputs": [],
   "source": [
    "soma = 0\n",
    "num = 1\n",
    "\n",
    "while num <= 5:\n",
    "    soma += num\n",
    "    num += 1\n",
    "    print(soma)"
   ]
  },
  {
   "cell_type": "code",
   "execution_count": null,
   "metadata": {},
   "outputs": [],
   "source": [
    "realizado = False \n",
    "while not realizado:\n",
    "    entrada = int(input())\n",
    "\n",
    "    if entrada == 100:\n",
    "        realizado = True\n",
    "    else:\n",
    "        print(entrada)"
   ]
  },
  {
   "cell_type": "code",
   "execution_count": null,
   "metadata": {},
   "outputs": [],
   "source": [
    "num = int(input(\"Insira o numero para a tabuada\"))\n",
    "i = 1\n",
    "while i <= 10:\n",
    "    multiplicacao = num * i\n",
    "    i += 1\n",
    "    print(multiplicacao)"
   ]
  },
  {
   "cell_type": "code",
   "execution_count": null,
   "metadata": {},
   "outputs": [],
   "source": [
    "num = int(input(\"Digite o numero para soma\"))\n",
    "soma = 0\n",
    "\n",
    "while soma < 100:\n",
    "    soma += num\n",
    "    print(soma)\n",
    "    num = int(input(\"Digite o valor: \"))\n"
   ]
  },
  {
   "cell_type": "code",
   "execution_count": 60,
   "metadata": {},
   "outputs": [
    {
     "name": "stdout",
     "output_type": "stream",
     "text": [
      "Senha incorreta, tente novamente\n",
      "Senha incorreta, tente novamente\n",
      "Login efetuado com sucesso\n"
     ]
    }
   ],
   "source": [
    "user = str(input(\"Insira o usuário\"))\n",
    "senha = str(input(\"Insira a senha\"))\n",
    "i = 0\n",
    "bloqueado = False\n",
    "if user == \"batata\" and not bloqueado:\n",
    "    while i < 3:\n",
    "        if senha == \"queijo\":\n",
    "            print(\"Login efetuado com sucesso\")\n",
    "            break\n",
    "        else:\n",
    "            i += 1\n",
    "            print(\"Senha incorreta, tente novamente\")\n",
    "            senha = str(input())\n",
    "    if i == 3:\n",
    "        bloqueado = True\n",
    "        print(\"Usuario bloqueado\")\n",
    "else:\n",
    "    print(\"Usuario incorreto insira novamente\")\n"
   ]
  },
  {
   "cell_type": "code",
   "execution_count": 4,
   "metadata": {},
   "outputs": [
    {
     "name": "stdout",
     "output_type": "stream",
     "text": [
      "0\n",
      "1\n",
      "2\n",
      "3\n",
      "4\n",
      "5\n"
     ]
    }
   ],
   "source": [
    "i = 0\n",
    "\n",
    "while i < 10:\n",
    "    print(i)\n",
    "    i+=1\n",
    "    if i == 6:\n",
    "        break\n"
   ]
  },
  {
   "cell_type": "code",
   "execution_count": 6,
   "metadata": {},
   "outputs": [
    {
     "name": "stdout",
     "output_type": "stream",
     "text": [
      "2\n",
      "4\n",
      "6\n",
      "8\n",
      "10\n"
     ]
    }
   ],
   "source": [
    "i = 0\n",
    "\n",
    "while i < 10:\n",
    "    i += 1\n",
    "    if i %2 != 0:\n",
    "        continue\n",
    "    print(i)"
   ]
  },
  {
   "cell_type": "code",
   "execution_count": 16,
   "metadata": {},
   "outputs": [
    {
     "name": "stdout",
     "output_type": "stream",
     "text": [
      "9\n",
      "8\n",
      "7\n",
      "6\n",
      "5\n"
     ]
    }
   ],
   "source": [
    "contador = 10\n",
    "while contador < 20:\n",
    "    contador -= 1\n",
    "    print(contador)\n",
    "    if contador == 5:\n",
    "        break\n",
    "    "
   ]
  },
  {
   "cell_type": "code",
   "execution_count": 17,
   "metadata": {},
   "outputs": [
    {
     "name": "stdout",
     "output_type": "stream",
     "text": [
      "5\n"
     ]
    }
   ],
   "source": [
    "palavra = input(\"Digite a palavra\")\n",
    "indice = len(palavra)\n",
    "\n",
    "print(indice)"
   ]
  },
  {
   "cell_type": "code",
   "execution_count": 18,
   "metadata": {},
   "outputs": [
    {
     "name": "stdout",
     "output_type": "stream",
     "text": [
      "l\n"
     ]
    }
   ],
   "source": [
    "nome = input(\"Digite seu nome\")\n",
    "ult_letra = nome[len(nome) - 1]\n",
    "print(ult_letra)\n"
   ]
  },
  {
   "cell_type": "code",
   "execution_count": 1,
   "metadata": {},
   "outputs": [
    {
     "name": "stdout",
     "output_type": "stream",
     "text": [
      "A média será  11.666666666666666\n"
     ]
    }
   ],
   "source": [
    "lista = [10, 5, 20]\n",
    "\n",
    "soma = 0\n",
    "indice = 0\n",
    "\n",
    "while indice < len(lista):\n",
    "    soma += lista[indice]\n",
    "    indice += 1\n",
    "\n",
    "media = soma / len(lista)\n",
    "print(\"A média será \", media)"
   ]
  },
  {
   "cell_type": "code",
   "execution_count": 3,
   "metadata": {},
   "outputs": [
    {
     "name": "stdout",
     "output_type": "stream",
     "text": [
      "9.0ºF equivale a -27.0ºC\n",
      "6.0ºF equivale a -28.666666666666668ºC\n",
      "2.0ºF equivale a -30.88888888888889ºC\n",
      "5.0ºF equivale a -29.22222222222222ºC\n",
      "7.0ºF equivale a -28.11111111111111ºC\n"
     ]
    }
   ],
   "source": [
    "temp_fahrenheit = float(input(\"Insira a temperatura em Fahrenheit\"))\n",
    "temperatura_celcius = 0\n",
    "while temp_fahrenheit != 0:\n",
    "    temperatura_celcius = ((5/9) * temp_fahrenheit - 32)\n",
    "    print(F\"{temp_fahrenheit}ºF equivale a {temperatura_celcius}ºC\")\n",
    "    temp_fahrenheit = float(input(\"Insira temperatura em Fahrenheit ou digie 0 para sair\"))"
   ]
  },
  {
   "cell_type": "code",
   "execution_count": 43,
   "metadata": {},
   "outputs": [
    {
     "name": "stdout",
     "output_type": "stream",
     "text": [
      "1\n",
      "2\n",
      "3\n",
      "4\n"
     ]
    }
   ],
   "source": [
    "for i in range (1, 11):\n",
    "    if i == 5:\n",
    "        break\n",
    "    print(i)"
   ]
  },
  {
   "cell_type": "code",
   "execution_count": null,
   "metadata": {},
   "outputs": [],
   "source": []
  },
  {
   "cell_type": "code",
   "execution_count": 9,
   "metadata": {},
   "outputs": [
    {
     "name": "stdout",
     "output_type": "stream",
     "text": [
      "maça\n",
      "banana\n",
      "laranja\n"
     ]
    }
   ],
   "source": [
    "for palavra in [\"maça\", \"banana\", \"laranja\"]:\n",
    "    print(palavra)"
   ]
  },
  {
   "cell_type": "code",
   "execution_count": 32,
   "metadata": {},
   "outputs": [
    {
     "name": "stdout",
     "output_type": "stream",
     "text": [
      "1\n",
      "2\n",
      "4\n",
      "5\n",
      "6\n"
     ]
    }
   ],
   "source": [
    "for i in range(1, 7):\n",
    "    if i == 3:\n",
    "        continue\n",
    "    print(i)"
   ]
  },
  {
   "cell_type": "code",
   "execution_count": 42,
   "metadata": {},
   "outputs": [
    {
     "name": "stdout",
     "output_type": "stream",
     "text": [
      "55\n"
     ]
    }
   ],
   "source": [
    "soma = 0\n",
    "\n",
    "for i in range (1, 6):\n",
    "    elevado = i ** 2\n",
    "    soma += elevado\n",
    "print(soma)\n"
   ]
  },
  {
   "cell_type": "code",
   "execution_count": 49,
   "metadata": {},
   "outputs": [
    {
     "name": "stdout",
     "output_type": "stream",
     "text": [
      "3\n"
     ]
    }
   ],
   "source": [
    "#contar letras especficas em palavra\n",
    "palavra = 'banana'\n",
    "letra_alvo = 'a'\n",
    "contador = 0\n",
    "\n",
    "for letra in palavra:\n",
    "    if letra_alvo == letra:\n",
    "        contador += 1\n",
    "print(contador)"
   ]
  },
  {
   "cell_type": "code",
   "execution_count": 50,
   "metadata": {},
   "outputs": [
    {
     "name": "stdout",
     "output_type": "stream",
     "text": [
      "2\n"
     ]
    }
   ],
   "source": [
    "palavra = str(input(\"Insira uma palavra\"))\n",
    "letra_alvo = str(input(\"Insira uma palavra\"))\n",
    "contador = 0\n",
    "\n",
    "for letra in palavra:\n",
    "    if letra_alvo == letra:\n",
    "        contador += 1\n",
    "print(contador)"
   ]
  }
 ],
 "metadata": {
  "kernelspec": {
   "display_name": "Python 3",
   "language": "python",
   "name": "python3"
  },
  "language_info": {
   "codemirror_mode": {
    "name": "ipython",
    "version": 3
   },
   "file_extension": ".py",
   "mimetype": "text/x-python",
   "name": "python",
   "nbconvert_exporter": "python",
   "pygments_lexer": "ipython3",
   "version": "3.11.4"
  },
  "orig_nbformat": 4
 },
 "nbformat": 4,
 "nbformat_minor": 2
}
